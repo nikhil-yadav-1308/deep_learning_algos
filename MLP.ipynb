{
 "cells": [
  {
   "cell_type": "code",
   "execution_count": 1,
   "id": "0c76dcbb",
   "metadata": {},
   "outputs": [],
   "source": [
    "import numpy as np"
   ]
  },
  {
   "cell_type": "code",
   "execution_count": 33,
   "id": "e4dda520",
   "metadata": {},
   "outputs": [],
   "source": [
    "class MLP:\n",
    "    def __init__(self, layers, init = 'random', out_activation='sigmoid'):\n",
    "        \n",
    "        # Save everything to analyse later\n",
    "        self.layers = layers\n",
    "        self.weights = []\n",
    "        self.bias = []\n",
    "        self.activations = []\n",
    "        self.z_list = []\n",
    "        \n",
    "        self.out_activation = out_activation\n",
    "        \n",
    "        if init == 'xavier':\n",
    "            self.xavier_initialization()\n",
    "        elif init == 'he':\n",
    "            self.he_initialization()\n",
    "        else:\n",
    "            self.random_initialization()\n",
    "    \n",
    "    def forward_pass(self, a):\n",
    "        z_list = []\n",
    "        activations = [a] # activation also include inputs so we can use it later\n",
    "        for i in range(len(self.layers)-2):\n",
    "            z = np.matmul(self.weights[i], a) + self.bias[i] # z(l,1) = W(l,l-1)*a(l-1,1) + b(l,1)\n",
    "            a = self.sigmoid(z) # a(l,1)\n",
    "            z_list.append(z)\n",
    "            activations.append(a)\n",
    "        \n",
    "        # For last layer\n",
    "        z = np.matmul(self.weights[len(self.layers)-2], a) + self.bias[len(self.layers)-2] # z(l,1) = W(l,l-1)*a(l-1,1) + b(l,1)\n",
    "        if self.out_activation == 'sigmoid':\n",
    "            a = self.sigmoid(z) # a(l,1)\n",
    "        if self.out_activation == 'linear':\n",
    "            a = self.sigmoid(z) # a(l,1)\n",
    "        z_list.append(z)\n",
    "        activations.append(a)\n",
    "        \n",
    "        self.z_list = z_list\n",
    "        self.activations = activations\n",
    "        return activations\n",
    "    \n",
    "    def backward_pass(self, target, learning_rate):\n",
    "        \n",
    "        # First the output layer calculations to get del_l, this will be passed backwards\n",
    "        output = self.activations[-1][0][0]\n",
    "        if self.out_activation == 'sigmoid':\n",
    "            loss, del_loss_out = self.cross_entropy_loss(target, output)\n",
    "        if self.out_activation == 'linear':\n",
    "            loss, del_loss_out = self.mse_loss(target, output)\n",
    "        del_l = del_loss_out * self.sigmoid_derivative(self.z_list[-1]) # del_l(1,1)\n",
    "        \n",
    "        # Update weights\n",
    "        for layer in range(len(self.layers)-1,0,-1):\n",
    "            \n",
    "            del_w = np.matmul(del_l, self.activations[layer-1].T) # del_w(l,l-1) = del_l(l,1)*a(l-1,1).T = del_l(l,1)*a(1,l-1)\n",
    "            del_b = del_l # del_b(l,1) = del_l(l,1)\n",
    "            \n",
    "            # [layer-1] because if layers in length n, then weights are length n-1\n",
    "            self.weights[layer-1] -= learning_rate * del_w\n",
    "            self.bias[layer-1] -= learning_rate * del_b\n",
    "            \n",
    "            # del_l for previous layer, del_l(l-1, 1) = weights(l, l-1).T*del_l(l,1) ** derivative(l-1)\n",
    "            del_l = np.matmul(self.weights[layer-1].T, del_l) * self.sigmoid_derivative(self.z_list[layer-2])\n",
    "        return loss\n",
    "    \n",
    "    # Print functions\n",
    "    def get_weights(self):\n",
    "        for i in range(len(self.weights)):\n",
    "            print(f'=============Layer {i+1} Weights================')\n",
    "            print(f'Weights: {self.weights[i]} {self.weights[i].shape}')\n",
    "            print(f'Bias: {self.bias[i]} {self.bias[i].shape}')\n",
    "    \n",
    "    def get_activations(self):\n",
    "        print(f'=============Input ================')\n",
    "        print(f'Weights: {self.activations[0]} {self.activations[0].shape}')\n",
    "        for i in range(1, len(self.activations)):\n",
    "            print(f'=============Layers {i} activations================')\n",
    "            print(f'Weights: {self.activations[i]} {self.activations[i].shape}')\n",
    "            \n",
    "    def get_z_values(self):\n",
    "        for i in range(len(self.z_list)):\n",
    "            print(f'=============Layers {i+1} z values================')\n",
    "            print(f'Weights: {self.z_list[i]} {self.z_list[i].shape}')\n",
    "    \n",
    "    # Utility functions\n",
    "    def sigmoid(self, z):\n",
    "        return 1/(1+np.exp(-z))\n",
    "    \n",
    "    def sigmoid_derivative(self, z):\n",
    "        return self.sigmoid(z)*(1-self.sigmoid(z))\n",
    "    \n",
    "    def cross_entropy_loss(self, target, output):\n",
    "        loss = -target*np.log(output) -(1-target)*np.log(1-output)\n",
    "        d_loss_out = (output - target)/(output - output**2)\n",
    "        return loss, d_loss_out\n",
    "    \n",
    "    def mse_loss(self, target, output):\n",
    "        loss = (target-output)**2\n",
    "        d_loss_out = -2*(target - output)\n",
    "        return loss, d_loss_out\n",
    "    \n",
    "    # Initialize parameters with random values\n",
    "    # Weight Shape = [l, l-1]\n",
    "    # We do layers[i+1] because layers also has input size in it\n",
    "    def random_initialization(self):\n",
    "        for i in range(len(self.layers)-1):\n",
    "            self.weights.append(np.random.random([self.layers[i+1], self.layers[i]]))\n",
    "            self.bias.append(np.random.random([self.layers[i+1], 1]))\n",
    "    \n",
    "    def xavier_initialization(self):\n",
    "        for i in range(len(self.layers)-1):\n",
    "            self.weights.append(np.random.normal(0, scale=1/self.layers[i], size=(self.layers[i+1], self.layers[i])))\n",
    "            self.bias.append(np.zeros([self.layers[i+1],1]))\n",
    "    \n",
    "    def he_initialization(self):\n",
    "        for i in range(len(self.layers)-1):\n",
    "            self.weights.append(np.random.normal(0, scale=2/self.layers[i], size=(self.layers[i+1], self.layers[i])))\n",
    "            self.bias.append(np.zeros([self.layers[i+1],1]))"
   ]
  },
  {
   "cell_type": "code",
   "execution_count": 52,
   "id": "1867f3e8",
   "metadata": {},
   "outputs": [
    {
     "name": "stdout",
     "output_type": "stream",
     "text": [
      "(3, 1)\n"
     ]
    },
    {
     "ename": "ValueError",
     "evalue": "matmul: Input operand 1 has a mismatch in its core dimension 0, with gufunc signature (n?,k),(k,m?)->(n?,m?) (size 3 is different from 2)",
     "output_type": "error",
     "traceback": [
      "\u001b[1;31m---------------------------------------------------------------------------\u001b[0m",
      "\u001b[1;31mValueError\u001b[0m                                Traceback (most recent call last)",
      "Cell \u001b[1;32mIn[52], line 24\u001b[0m\n\u001b[0;32m     22\u001b[0m inp \u001b[38;5;241m=\u001b[39m inp\u001b[38;5;241m.\u001b[39mreshape(\u001b[38;5;241m-\u001b[39m\u001b[38;5;241m1\u001b[39m,\u001b[38;5;241m1\u001b[39m)\n\u001b[0;32m     23\u001b[0m \u001b[38;5;28mprint\u001b[39m(inp\u001b[38;5;241m.\u001b[39mshape)\n\u001b[1;32m---> 24\u001b[0m activations \u001b[38;5;241m=\u001b[39m \u001b[43mmlp\u001b[49m\u001b[38;5;241;43m.\u001b[39;49m\u001b[43mforward_pass\u001b[49m\u001b[43m(\u001b[49m\u001b[43minp\u001b[49m\u001b[43m)\u001b[49m\n\u001b[0;32m     25\u001b[0m loss \u001b[38;5;241m=\u001b[39m mlp\u001b[38;5;241m.\u001b[39mbackward_pass(target, learning_rate)\n\u001b[0;32m     26\u001b[0m epoch_loss \u001b[38;5;241m+\u001b[39m\u001b[38;5;241m=\u001b[39m loss\n",
      "Cell \u001b[1;32mIn[33], line 24\u001b[0m, in \u001b[0;36mMLP.forward_pass\u001b[1;34m(self, a)\u001b[0m\n\u001b[0;32m     22\u001b[0m activations \u001b[38;5;241m=\u001b[39m [a] \u001b[38;5;66;03m# activation also include inputs so we can use it later\u001b[39;00m\n\u001b[0;32m     23\u001b[0m \u001b[38;5;28;01mfor\u001b[39;00m i \u001b[38;5;129;01min\u001b[39;00m \u001b[38;5;28mrange\u001b[39m(\u001b[38;5;28mlen\u001b[39m(\u001b[38;5;28mself\u001b[39m\u001b[38;5;241m.\u001b[39mlayers)\u001b[38;5;241m-\u001b[39m\u001b[38;5;241m2\u001b[39m):\n\u001b[1;32m---> 24\u001b[0m     z \u001b[38;5;241m=\u001b[39m \u001b[43mnp\u001b[49m\u001b[38;5;241;43m.\u001b[39;49m\u001b[43mmatmul\u001b[49m\u001b[43m(\u001b[49m\u001b[38;5;28;43mself\u001b[39;49m\u001b[38;5;241;43m.\u001b[39;49m\u001b[43mweights\u001b[49m\u001b[43m[\u001b[49m\u001b[43mi\u001b[49m\u001b[43m]\u001b[49m\u001b[43m,\u001b[49m\u001b[43m \u001b[49m\u001b[43ma\u001b[49m\u001b[43m)\u001b[49m \u001b[38;5;241m+\u001b[39m \u001b[38;5;28mself\u001b[39m\u001b[38;5;241m.\u001b[39mbias[i] \u001b[38;5;66;03m# z(l,1) = W(l,l-1)*a(l-1,1) + b(l,1)\u001b[39;00m\n\u001b[0;32m     25\u001b[0m     a \u001b[38;5;241m=\u001b[39m \u001b[38;5;28mself\u001b[39m\u001b[38;5;241m.\u001b[39msigmoid(z) \u001b[38;5;66;03m# a(l,1)\u001b[39;00m\n\u001b[0;32m     26\u001b[0m     z_list\u001b[38;5;241m.\u001b[39mappend(z)\n",
      "\u001b[1;31mValueError\u001b[0m: matmul: Input operand 1 has a mismatch in its core dimension 0, with gufunc signature (n?,k),(k,m?)->(n?,m?) (size 3 is different from 2)"
     ]
    }
   ],
   "source": [
    "# mlp = MLP([2,3,1], 'random', 'sigmoid')\n",
    "# inputs = np.array([[0,0],[1,0],[0,1],[1,1]])\n",
    "# targets = np.array([0,0,0,1])\n",
    "\n",
    "# mlp = MLP([3,3,1], 'random', 'linear')\n",
    "# inputs = np.array([[0,0,0],[0,0,1],[1,0,0],[0,1,0],[1,0,1],[0,1,1],[1,1,0],[1,1,1]])\n",
    "# targets = np.array([0,0.3,0.3,0.3,0.8,0.8,0.8,1])\n",
    "\n",
    "def function(x):\n",
    "    return (np.cos(x[0]*2*np.pi)) + (np.sin(x[1]*2*np.pi))\n",
    "X = 2*(np.random.random([200, 2]) - 0.5)\n",
    "y = np.array([function(x) for x in X])\n",
    "mlp = MLP([2,3,1], 'random', 'linear')\n",
    "\n",
    "epochs = 50\n",
    "learning_rate = 0.05\n",
    "\n",
    "losses = []\n",
    "for _ in range(epochs):\n",
    "    epoch_loss = 0\n",
    "    for inp, target in zip(inputs, targets):\n",
    "        inp = inp.reshape(-1,1)\n",
    "        print(inp.shape)\n",
    "        activations = mlp.forward_pass(inp)\n",
    "        loss = mlp.backward_pass(target, learning_rate)\n",
    "        epoch_loss += loss\n",
    "    losses.append(epoch_loss)\n",
    "\n",
    "# mlp.get_weights()\n",
    "# mlp.get_activations()\n",
    "# mlp.get_z_values()"
   ]
  },
  {
   "cell_type": "code",
   "execution_count": 47,
   "id": "b153756d",
   "metadata": {},
   "outputs": [
    {
     "data": {
      "text/plain": [
       "Text(0.5, 0, 'Epoch')"
      ]
     },
     "execution_count": 47,
     "metadata": {},
     "output_type": "execute_result"
    },
    {
     "data": {
      "image/png": "[encoded data removed]",
      "text/plain": [
       "<Figure size 640x480 with 1 Axes>"
      ]
     },
     "metadata": {},
     "output_type": "display_data"
    }
   ],
   "source": [
    "import matplotlib.pyplot as plt\n",
    "plt.plot(range(len(losses)), losses)\n",
    "plt.ylabel('Loss')\n",
    "plt.xlabel('Epoch')"
   ]
  },
  {
   "cell_type": "code",
   "execution_count": 4,
   "id": "cbaadfd0",
   "metadata": {},
   "outputs": [
    {
     "name": "stdout",
     "output_type": "stream",
     "text": [
      "For input [0 0 0]: 0.07\n",
      "For input [0 0 1]: 0.29\n",
      "For input [1 0 0]: 0.29\n",
      "For input [0 1 0]: 0.29\n",
      "For input [1 0 1]: 0.80\n",
      "For input [0 1 1]: 0.81\n",
      "For input [1 1 0]: 0.81\n",
      "For input [1 1 1]: 0.95\n"
     ]
    }
   ],
   "source": [
    "for inp in inputs:\n",
    "    inp = inp.reshape(-1,1)\n",
    "    activations = mlp.forward_pass(inp)\n",
    "    activations = mlp.forward_pass(inp)\n",
    "    output = activations[-1]\n",
    "    print(f'For input {inp.reshape(1,-1)[0]}: {output[0][0]:.2f}')"
   ]
  },
  {
   "cell_type": "code",
   "execution_count": null,
   "id": "a635efca",
   "metadata": {},
   "outputs": [],
   "source": []
  }
 ],
 "metadata": {
  "kernelspec": {
   "display_name": "Python 3 (ipykernel)",
   "language": "python",
   "name": "python3"
  },
  "language_info": {
   "codemirror_mode": {
    "name": "ipython",
    "version": 3
   },
   "file_extension": ".py",
   "mimetype": "text/x-python",
   "name": "python",
   "nbconvert_exporter": "python",
   "pygments_lexer": "ipython3",
   "version": "3.10.11"
  }
 },
 "nbformat": 4,
 "nbformat_minor": 5
}
